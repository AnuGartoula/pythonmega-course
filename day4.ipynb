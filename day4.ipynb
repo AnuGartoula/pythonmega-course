{
 "cells": [
  {
   "cell_type": "markdown",
   "id": "34bcec84",
   "metadata": {},
   "source": [
    "# LIST"
   ]
  },
  {
   "cell_type": "code",
   "execution_count": 2,
   "id": "edcd619d",
   "metadata": {},
   "outputs": [],
   "source": [
    "x=[1,2,5,4,90]     #list needs big brackets[]"
   ]
  },
  {
   "cell_type": "code",
   "execution_count": 20,
   "id": "422de7de",
   "metadata": {},
   "outputs": [],
   "source": [
    "lst=[4,'biru','g',67,'jay']   "
   ]
  },
  {
   "cell_type": "code",
   "execution_count": 21,
   "id": "4c398c15",
   "metadata": {},
   "outputs": [
    {
     "data": {
      "text/plain": [
       "list"
      ]
     },
     "execution_count": 21,
     "metadata": {},
     "output_type": "execute_result"
    }
   ],
   "source": [
    "type(lst)    "
   ]
  },
  {
   "cell_type": "code",
   "execution_count": 22,
   "id": "0b06f1b8",
   "metadata": {},
   "outputs": [
    {
     "data": {
      "text/plain": [
       "'g'"
      ]
     },
     "execution_count": 22,
     "metadata": {},
     "output_type": "execute_result"
    }
   ],
   "source": [
    "lst[2]"
   ]
  },
  {
   "cell_type": "code",
   "execution_count": 23,
   "id": "9c1b4477",
   "metadata": {},
   "outputs": [
    {
     "data": {
      "text/plain": [
       "str"
      ]
     },
     "execution_count": 23,
     "metadata": {},
     "output_type": "execute_result"
    }
   ],
   "source": [
    "type(lst[2])      "
   ]
  },
  {
   "cell_type": "code",
   "execution_count": 26,
   "id": "83e0247d",
   "metadata": {},
   "outputs": [
    {
     "data": {
      "text/plain": [
       "'jay  biru'"
      ]
     },
     "execution_count": 26,
     "metadata": {},
     "output_type": "execute_result"
    }
   ],
   "source": [
    "lst[4]+'  '  +   lst[1]      #' ' adds blank space"
   ]
  },
  {
   "cell_type": "code",
   "execution_count": 30,
   "id": "7422fff5",
   "metadata": {
    "scrolled": true
   },
   "outputs": [
    {
     "data": {
      "text/plain": [
       "5"
      ]
     },
     "execution_count": 30,
     "metadata": {},
     "output_type": "execute_result"
    }
   ],
   "source": [
    "len(lst)     #length of list"
   ]
  },
  {
   "cell_type": "code",
   "execution_count": 33,
   "id": "6fb1984e",
   "metadata": {},
   "outputs": [
    {
     "data": {
      "text/plain": [
       "['g', 67, 'jay']"
      ]
     },
     "execution_count": 33,
     "metadata": {},
     "output_type": "execute_result"
    }
   ],
   "source": [
    "lst[2:5]     #characters from 2 to 5"
   ]
  },
  {
   "cell_type": "code",
   "execution_count": 36,
   "id": "32962b29",
   "metadata": {},
   "outputs": [],
   "source": [
    "lst1=[]    #empty list to append charcters"
   ]
  },
  {
   "cell_type": "code",
   "execution_count": 37,
   "id": "e1e2c71e",
   "metadata": {},
   "outputs": [],
   "source": [
    "lst1.append('hex')"
   ]
  },
  {
   "cell_type": "code",
   "execution_count": 39,
   "id": "761cc023",
   "metadata": {},
   "outputs": [
    {
     "name": "stdout",
     "output_type": "stream",
     "text": [
      "['hex']\n"
     ]
    }
   ],
   "source": [
    "print(lst1)"
   ]
  },
  {
   "cell_type": "code",
   "execution_count": 41,
   "id": "f1792ffc",
   "metadata": {},
   "outputs": [],
   "source": [
    "lst1.append('india')     #adding charcter in list"
   ]
  },
  {
   "cell_type": "code",
   "execution_count": 42,
   "id": "92fd73c5",
   "metadata": {},
   "outputs": [],
   "source": [
    "lst1.append('korea')"
   ]
  },
  {
   "cell_type": "code",
   "execution_count": 43,
   "id": "994732e6",
   "metadata": {},
   "outputs": [],
   "source": [
    "lst1.append('japan')"
   ]
  },
  {
   "cell_type": "code",
   "execution_count": 44,
   "id": "67f3d7b7",
   "metadata": {},
   "outputs": [],
   "source": [
    "lst1.append('2023')"
   ]
  },
  {
   "cell_type": "code",
   "execution_count": 45,
   "id": "8161b5c3",
   "metadata": {},
   "outputs": [
    {
     "data": {
      "text/plain": [
       "['hex', 'india', 'korea', 'japan', '2023']"
      ]
     },
     "execution_count": 45,
     "metadata": {},
     "output_type": "execute_result"
    }
   ],
   "source": [
    "lst1\n"
   ]
  },
  {
   "cell_type": "code",
   "execution_count": 59,
   "id": "a8f1df39",
   "metadata": {},
   "outputs": [],
   "source": [
    "lst1.insert(1,'code') #insert elemts in between the elements in the list \n",
    "\n",
    "                      # 1 is the position and 'code ' is the element"
   ]
  },
  {
   "cell_type": "code",
   "execution_count": 60,
   "id": "7c2608c8",
   "metadata": {},
   "outputs": [
    {
     "data": {
      "text/plain": [
       "['hex', 'code', 'academy', 'academy', 'academy', 'japan', '2023']"
      ]
     },
     "execution_count": 60,
     "metadata": {},
     "output_type": "execute_result"
    }
   ],
   "source": [
    "lst1"
   ]
  },
  {
   "cell_type": "code",
   "execution_count": 61,
   "id": "6513ee23",
   "metadata": {},
   "outputs": [],
   "source": [
    "lst1[2]='academy'    #change elements;  [1] is the position of elements to change\n",
    "                                     \n",
    "    "
   ]
  },
  {
   "cell_type": "code",
   "execution_count": 75,
   "id": "ff679ee0",
   "metadata": {},
   "outputs": [
    {
     "data": {
      "text/plain": [
       "['hex', 'code', 'mexico', 'umbrella', 'academy']"
      ]
     },
     "execution_count": 75,
     "metadata": {},
     "output_type": "execute_result"
    }
   ],
   "source": [
    "lst1"
   ]
  },
  {
   "cell_type": "code",
   "execution_count": 76,
   "id": "8597abc1",
   "metadata": {},
   "outputs": [
    {
     "data": {
      "text/plain": [
       "['mexico', 'umbrella', 'academy']"
      ]
     },
     "execution_count": 76,
     "metadata": {},
     "output_type": "execute_result"
    }
   ],
   "source": [
    "lst1[2:5]   #selects element from 2nd to 5th place"
   ]
  },
  {
   "cell_type": "code",
   "execution_count": 80,
   "id": "d04b4ccc",
   "metadata": {},
   "outputs": [],
   "source": [
    "lst1[2:5]=['america' ,'umbrella' ,'academy']       #changes name from 2nd to 5th place"
   ]
  },
  {
   "cell_type": "code",
   "execution_count": 81,
   "id": "3023ebe5",
   "metadata": {},
   "outputs": [
    {
     "data": {
      "text/plain": [
       "['hex', 'code', 'america', 'umbrella', 'academy']"
      ]
     },
     "execution_count": 81,
     "metadata": {},
     "output_type": "execute_result"
    }
   ],
   "source": [
    "lst1\n"
   ]
  },
  {
   "cell_type": "code",
   "execution_count": 82,
   "id": "0794cf30",
   "metadata": {},
   "outputs": [],
   "source": [
    "lst1.remove('america')     #removes single elements from the list"
   ]
  },
  {
   "cell_type": "code",
   "execution_count": 83,
   "id": "f7858cd7",
   "metadata": {},
   "outputs": [
    {
     "data": {
      "text/plain": [
       "['hex', 'code', 'umbrella', 'academy']"
      ]
     },
     "execution_count": 83,
     "metadata": {},
     "output_type": "execute_result"
    }
   ],
   "source": [
    "lst1"
   ]
  },
  {
   "cell_type": "code",
   "execution_count": 84,
   "id": "78090c4a",
   "metadata": {},
   "outputs": [],
   "source": [
    "lst1.clear()       #clears every element on list"
   ]
  },
  {
   "cell_type": "code",
   "execution_count": 85,
   "id": "430c02c1",
   "metadata": {},
   "outputs": [
    {
     "data": {
      "text/plain": [
       "[]"
      ]
     },
     "execution_count": 85,
     "metadata": {},
     "output_type": "execute_result"
    }
   ],
   "source": [
    "lst1          "
   ]
  },
  {
   "cell_type": "code",
   "execution_count": 86,
   "id": "642f6b2c",
   "metadata": {},
   "outputs": [
    {
     "data": {
      "text/plain": [
       "[4, 'biru', 'g', 67, 'jay']"
      ]
     },
     "execution_count": 86,
     "metadata": {},
     "output_type": "execute_result"
    }
   ],
   "source": [
    "lst"
   ]
  },
  {
   "cell_type": "code",
   "execution_count": 87,
   "id": "15e1e576",
   "metadata": {},
   "outputs": [
    {
     "data": {
      "text/plain": [
       "'jay'"
      ]
     },
     "execution_count": 87,
     "metadata": {},
     "output_type": "execute_result"
    }
   ],
   "source": [
    "lst.pop()     #pop is stack operation ;  removes last elements "
   ]
  },
  {
   "cell_type": "code",
   "execution_count": 88,
   "id": "eabb0d4a",
   "metadata": {},
   "outputs": [
    {
     "data": {
      "text/plain": [
       "67"
      ]
     },
     "execution_count": 88,
     "metadata": {},
     "output_type": "execute_result"
    }
   ],
   "source": [
    "lst.pop()        #removal of elements from last "
   ]
  },
  {
   "cell_type": "code",
   "execution_count": 89,
   "id": "bde9b7fa",
   "metadata": {},
   "outputs": [
    {
     "data": {
      "text/plain": [
       "[4, 'biru', 'g']"
      ]
     },
     "execution_count": 89,
     "metadata": {},
     "output_type": "execute_result"
    }
   ],
   "source": [
    "lst"
   ]
  },
  {
   "cell_type": "code",
   "execution_count": 90,
   "id": "45937e73",
   "metadata": {},
   "outputs": [
    {
     "data": {
      "text/plain": [
       "False"
      ]
     },
     "execution_count": 90,
     "metadata": {},
     "output_type": "execute_result"
    }
   ],
   "source": [
    " 1 in lst      #checking if the list has element '1' or not"
   ]
  },
  {
   "cell_type": "code",
   "execution_count": 93,
   "id": "2b1e915d",
   "metadata": {},
   "outputs": [
    {
     "data": {
      "text/plain": [
       "True"
      ]
     },
     "execution_count": 93,
     "metadata": {},
     "output_type": "execute_result"
    }
   ],
   "source": [
    "'biru' in lst   #checks if 'biru' is in  lst"
   ]
  },
  {
   "cell_type": "code",
   "execution_count": 95,
   "id": "c27506be",
   "metadata": {},
   "outputs": [
    {
     "data": {
      "text/plain": [
       "True"
      ]
     },
     "execution_count": 95,
     "metadata": {},
     "output_type": "execute_result"
    }
   ],
   "source": [
    "3 not in lst    "
   ]
  },
  {
   "cell_type": "markdown",
   "id": "c6059e76",
   "metadata": {},
   "source": [
    "\n",
    "# Dictionary"
   ]
  },
  {
   "cell_type": "code",
   "execution_count": 103,
   "id": "89684a55",
   "metadata": {},
   "outputs": [],
   "source": [
    "info={'name':'anu gartoula', \n",
    "      'rollno':4,                                      #dictionary uses curly brackets{}\n",
    "      'college':'medhavi',\n",
    "      'semester':2,\n",
    "     'program':'BCIS'}   "
   ]
  },
  {
   "cell_type": "code",
   "execution_count": 107,
   "id": "550a3c92",
   "metadata": {},
   "outputs": [
    {
     "name": "stdout",
     "output_type": "stream",
     "text": [
      "{'name': 'anu gartoula', 'rollno': 4, 'college': 'medhavi', 'semester': 2, 'program': 'BCIS'}\n"
     ]
    }
   ],
   "source": [
    " print(info)"
   ]
  },
  {
   "cell_type": "code",
   "execution_count": 108,
   "id": "48529b46",
   "metadata": {},
   "outputs": [
    {
     "data": {
      "text/plain": [
       "dict_keys(['name', 'rollno', 'college', 'semester', 'program'])"
      ]
     },
     "execution_count": 108,
     "metadata": {},
     "output_type": "execute_result"
    }
   ],
   "source": [
    "info.keys()     #only keys will appear"
   ]
  },
  {
   "cell_type": "code",
   "execution_count": 109,
   "id": "f537542c",
   "metadata": {},
   "outputs": [
    {
     "data": {
      "text/plain": [
       "'medhavi'"
      ]
     },
     "execution_count": 109,
     "metadata": {},
     "output_type": "execute_result"
    }
   ],
   "source": [
    "info['college']"
   ]
  },
  {
   "cell_type": "code",
   "execution_count": 110,
   "id": "3fa4ab2f",
   "metadata": {},
   "outputs": [
    {
     "data": {
      "text/plain": [
       "'BCIS'"
      ]
     },
     "execution_count": 110,
     "metadata": {},
     "output_type": "execute_result"
    }
   ],
   "source": [
    "info['program']       #to know the name of program"
   ]
  },
  {
   "cell_type": "code",
   "execution_count": 111,
   "id": "ae7dac00",
   "metadata": {},
   "outputs": [
    {
     "data": {
      "text/plain": [
       "dict_values(['anu gartoula', 4, 'medhavi', 2, 'BCIS'])"
      ]
     },
     "execution_count": 111,
     "metadata": {},
     "output_type": "execute_result"
    }
   ],
   "source": [
    "info.values()      #shows the values of the dictionary"
   ]
  },
  {
   "cell_type": "code",
   "execution_count": 112,
   "id": "54b157b0",
   "metadata": {},
   "outputs": [],
   "source": [
    "info['remarks']='topper'      #adding more info in dictionary"
   ]
  },
  {
   "cell_type": "code",
   "execution_count": 113,
   "id": "e0d7d6a2",
   "metadata": {},
   "outputs": [
    {
     "data": {
      "text/plain": [
       "{'name': 'anu gartoula',\n",
       " 'rollno': 4,\n",
       " 'college': 'medhavi',\n",
       " 'semester': 2,\n",
       " 'program': 'BCIS',\n",
       " 'remarks': 'topper'}"
      ]
     },
     "execution_count": 113,
     "metadata": {},
     "output_type": "execute_result"
    }
   ],
   "source": [
    "info"
   ]
  },
  {
   "cell_type": "code",
   "execution_count": 115,
   "id": "96359225",
   "metadata": {},
   "outputs": [
    {
     "data": {
      "text/plain": [
       "'topper'"
      ]
     },
     "execution_count": 115,
     "metadata": {},
     "output_type": "execute_result"
    }
   ],
   "source": [
    "info.pop('remarks')     #removes from last"
   ]
  },
  {
   "cell_type": "code",
   "execution_count": 117,
   "id": "c6c8b8d8",
   "metadata": {},
   "outputs": [
    {
     "data": {
      "text/plain": [
       "{'name': 'anu gartoula',\n",
       " 'rollno': 4,\n",
       " 'college': 'medhavi',\n",
       " 'semester': 2,\n",
       " 'program': 'BCIS'}"
      ]
     },
     "execution_count": 117,
     "metadata": {},
     "output_type": "execute_result"
    }
   ],
   "source": [
    "info"
   ]
  },
  {
   "cell_type": "code",
   "execution_count": 122,
   "id": "11e37c9b",
   "metadata": {},
   "outputs": [],
   "source": [
    "info.update({'Reg No.': 2299919})      #adds new elements on info"
   ]
  },
  {
   "cell_type": "code",
   "execution_count": 124,
   "id": "4d67e78e",
   "metadata": {},
   "outputs": [
    {
     "data": {
      "text/plain": [
       "{'name': 'anu gartoula',\n",
       " 'rollno': 4,\n",
       " 'college': 'medhavi',\n",
       " 'semester': 2,\n",
       " 'program': 'BCIS',\n",
       " 'Reg No.': 2299919}"
      ]
     },
     "execution_count": 124,
     "metadata": {},
     "output_type": "execute_result"
    }
   ],
   "source": [
    "info"
   ]
  },
  {
   "cell_type": "code",
   "execution_count": 127,
   "id": "58d2b71c",
   "metadata": {},
   "outputs": [
    {
     "data": {
      "text/plain": [
       "'medhavi'"
      ]
     },
     "execution_count": 127,
     "metadata": {},
     "output_type": "execute_result"
    }
   ],
   "source": [
    "info.get('college')        #shows the value of keys from dictionary"
   ]
  },
  {
   "cell_type": "code",
   "execution_count": null,
   "id": "d5c8dd0e",
   "metadata": {},
   "outputs": [],
   "source": []
  }
 ],
 "metadata": {
  "kernelspec": {
   "display_name": "Python 3 (ipykernel)",
   "language": "python",
   "name": "python3"
  },
  "language_info": {
   "codemirror_mode": {
    "name": "ipython",
    "version": 3
   },
   "file_extension": ".py",
   "mimetype": "text/x-python",
   "name": "python",
   "nbconvert_exporter": "python",
   "pygments_lexer": "ipython3",
   "version": "3.11.1"
  }
 },
 "nbformat": 4,
 "nbformat_minor": 5
}
