{
 "cells": [
  {
   "cell_type": "code",
   "execution_count": 8,
   "id": "4faaf5f6",
   "metadata": {},
   "outputs": [],
   "source": [
    "x= 'hello hex'\n"
   ]
  },
  {
   "cell_type": "code",
   "execution_count": 13,
   "id": "a6570ab6",
   "metadata": {},
   "outputs": [],
   "source": [
    "y= ' nepal'"
   ]
  },
  {
   "cell_type": "code",
   "execution_count": 18,
   "id": "113f4006",
   "metadata": {},
   "outputs": [],
   "source": [
    "z=x+y"
   ]
  },
  {
   "cell_type": "code",
   "execution_count": 19,
   "id": "4ad27933",
   "metadata": {},
   "outputs": [
    {
     "name": "stdout",
     "output_type": "stream",
     "text": [
      "hello hex nepal\n"
     ]
    }
   ],
   "source": [
    "print(z)"
   ]
  },
  {
   "cell_type": "code",
   "execution_count": 16,
   "id": "895ff954",
   "metadata": {},
   "outputs": [
    {
     "name": "stdout",
     "output_type": "stream",
     "text": [
      "hello hex nepal\n"
     ]
    }
   ],
   "source": [
    "print(z)"
   ]
  },
  {
   "cell_type": "code",
   "execution_count": 23,
   "id": "ef6a2cbe",
   "metadata": {},
   "outputs": [],
   "source": [
    "firstName=\" anu \""
   ]
  },
  {
   "cell_type": "code",
   "execution_count": null,
   "id": "2ce591a6",
   "metadata": {},
   "outputs": [],
   "source": []
  },
  {
   "cell_type": "code",
   "execution_count": 24,
   "id": "81f9f5c9",
   "metadata": {},
   "outputs": [],
   "source": [
    "lastName=\" gartoula\""
   ]
  },
  {
   "cell_type": "code",
   "execution_count": 25,
   "id": "6bd1bd5c",
   "metadata": {},
   "outputs": [],
   "source": [
    "name=firstName+lastName"
   ]
  },
  {
   "cell_type": "code",
   "execution_count": 26,
   "id": "6100601c",
   "metadata": {},
   "outputs": [
    {
     "name": "stdout",
     "output_type": "stream",
     "text": [
      " anu  gartoula\n"
     ]
    }
   ],
   "source": [
    "print(name)"
   ]
  },
  {
   "cell_type": "code",
   "execution_count": 37,
   "id": "95da354b",
   "metadata": {},
   "outputs": [
    {
     "name": "stdout",
     "output_type": "stream",
     "text": [
      "enter your  first namejay\n",
      "enter your last name  biru\n"
     ]
    }
   ],
   "source": [
    "f_name = input(\"enter your  first name\")\n",
    "l_name = input(\"enter your last name \")"
   ]
  },
  {
   "cell_type": "code",
   "execution_count": 40,
   "id": "4408c5ba",
   "metadata": {},
   "outputs": [
    {
     "name": "stdout",
     "output_type": "stream",
     "text": [
      "your name is jay biru\n"
     ]
    }
   ],
   "source": [
    "print('your name is '+ f_name +  l_name)"
   ]
  },
  {
   "cell_type": "code",
   "execution_count": 45,
   "id": "0e3838f4",
   "metadata": {},
   "outputs": [
    {
     "name": "stdout",
     "output_type": "stream",
     "text": [
      "enter first number40\n",
      "enter second number100\n"
     ]
    }
   ],
   "source": [
    "num1=int(input('enter first number'))\n",
    "num2=int(input('enter second number'))"
   ]
  },
  {
   "cell_type": "code",
   "execution_count": 46,
   "id": "6fd5ff94",
   "metadata": {},
   "outputs": [],
   "source": [
    "sum= num1+num2"
   ]
  },
  {
   "cell_type": "code",
   "execution_count": 49,
   "id": "50207cfb",
   "metadata": {},
   "outputs": [
    {
     "name": "stdout",
     "output_type": "stream",
     "text": [
      "140\n"
     ]
    }
   ],
   "source": [
    "print(sum)"
   ]
  },
  {
   "cell_type": "code",
   "execution_count": 51,
   "id": "42994cc0",
   "metadata": {},
   "outputs": [
    {
     "name": "stdout",
     "output_type": "stream",
     "text": [
      "enter first number3.3\n",
      "enter second number4.4\n"
     ]
    }
   ],
   "source": [
    "num3=float(input('enter first number'))               #input from user\n",
    "num4=float(input('enter second number'))"
   ]
  },
  {
   "cell_type": "code",
   "execution_count": 56,
   "id": "ccf666fb",
   "metadata": {},
   "outputs": [],
   "source": [
    "diff=num4-num3"
   ]
  },
  {
   "cell_type": "code",
   "execution_count": 57,
   "id": "d7d1f985",
   "metadata": {},
   "outputs": [
    {
     "name": "stdout",
     "output_type": "stream",
     "text": [
      "1.1000000000000005\n"
     ]
    }
   ],
   "source": [
    "print(diff)"
   ]
  },
  {
   "cell_type": "code",
   "execution_count": 70,
   "id": "e9864360",
   "metadata": {},
   "outputs": [
    {
     "name": "stdout",
     "output_type": "stream",
     "text": [
      "enter first number3\n",
      "enter second number3\n"
     ]
    }
   ],
   "source": [
    "x=int(input('enter first number'))\n",
    "y=int(input('enter second number'))"
   ]
  },
  {
   "cell_type": "code",
   "execution_count": 71,
   "id": "7cf67404",
   "metadata": {},
   "outputs": [],
   "source": [
    "multiplication=x*y\n"
   ]
  },
  {
   "cell_type": "code",
   "execution_count": 72,
   "id": "66d1cfa7",
   "metadata": {},
   "outputs": [
    {
     "name": "stdout",
     "output_type": "stream",
     "text": [
      "9\n"
     ]
    }
   ],
   "source": [
    "print(multiplication)"
   ]
  },
  {
   "cell_type": "code",
   "execution_count": 74,
   "id": "0ad96c80",
   "metadata": {},
   "outputs": [
    {
     "data": {
      "text/plain": [
       "27"
      ]
     },
     "execution_count": 74,
     "metadata": {},
     "output_type": "execute_result"
    }
   ],
   "source": [
    "x**y\n"
   ]
  },
  {
   "cell_type": "code",
   "execution_count": 75,
   "id": "f681c287",
   "metadata": {},
   "outputs": [
    {
     "data": {
      "text/plain": [
       "1"
      ]
     },
     "execution_count": 75,
     "metadata": {},
     "output_type": "execute_result"
    }
   ],
   "source": [
    "x//y\n"
   ]
  },
  {
   "cell_type": "code",
   "execution_count": 76,
   "id": "6334fc7d",
   "metadata": {},
   "outputs": [
    {
     "data": {
      "text/plain": [
       "1.0"
      ]
     },
     "execution_count": 76,
     "metadata": {},
     "output_type": "execute_result"
    }
   ],
   "source": [
    "x/y"
   ]
  },
  {
   "cell_type": "code",
   "execution_count": null,
   "id": "0036c5a3",
   "metadata": {},
   "outputs": [],
   "source": []
  }
 ],
 "metadata": {
  "kernelspec": {
   "display_name": "Python 3 (ipykernel)",
   "language": "python",
   "name": "python3"
  },
  "language_info": {
   "codemirror_mode": {
    "name": "ipython",
    "version": 3
   },
   "file_extension": ".py",
   "mimetype": "text/x-python",
   "name": "python",
   "nbconvert_exporter": "python",
   "pygments_lexer": "ipython3",
   "version": "3.11.1"
  }
 },
 "nbformat": 4,
 "nbformat_minor": 5
}
