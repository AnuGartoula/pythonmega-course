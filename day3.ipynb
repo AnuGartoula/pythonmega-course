{
 "cells": [
  {
   "cell_type": "markdown",
   "id": "e7708855",
   "metadata": {},
   "source": [
    "\n",
    "# Operators"
   ]
  },
  {
   "cell_type": "markdown",
   "id": "5f06f7d8",
   "metadata": {},
   "source": [
    "# Airthmetic Operators"
   ]
  },
  {
   "cell_type": "code",
   "execution_count": 2,
   "id": "28a4d300",
   "metadata": {},
   "outputs": [
    {
     "name": "stdout",
     "output_type": "stream",
     "text": [
      "enter the first number55.55\n",
      "enter the second number44.44\n"
     ]
    }
   ],
   "source": [
    "x=float(input(\"enter the first number\"))\n",
    "y=float(input(\"enter the second number\"))"
   ]
  },
  {
   "cell_type": "code",
   "execution_count": 3,
   "id": "92577956",
   "metadata": {},
   "outputs": [],
   "source": [
    "sum=x+y"
   ]
  },
  {
   "cell_type": "code",
   "execution_count": 4,
   "id": "a20a695f",
   "metadata": {},
   "outputs": [
    {
     "name": "stdout",
     "output_type": "stream",
     "text": [
      "99.99\n"
     ]
    }
   ],
   "source": [
    "print(sum)"
   ]
  },
  {
   "cell_type": "code",
   "execution_count": 5,
   "id": "2a9a8157",
   "metadata": {},
   "outputs": [
    {
     "name": "stdout",
     "output_type": "stream",
     "text": [
      "enter the first number33.33\n",
      "enter the second number22.22\n"
     ]
    }
   ],
   "source": [
    "x=float(input(\"enter the first number\"))\n",
    "y=float(input(\"enter the second number\"))"
   ]
  },
  {
   "cell_type": "code",
   "execution_count": 7,
   "id": "064842f8",
   "metadata": {},
   "outputs": [],
   "source": [
    "difference=x-y\n"
   ]
  },
  {
   "cell_type": "code",
   "execution_count": 8,
   "id": "d995952f",
   "metadata": {},
   "outputs": [
    {
     "name": "stdout",
     "output_type": "stream",
     "text": [
      "11.11\n"
     ]
    }
   ],
   "source": [
    "print(difference)"
   ]
  },
  {
   "cell_type": "code",
   "execution_count": 9,
   "id": "eb2a806b",
   "metadata": {},
   "outputs": [
    {
     "name": "stdout",
     "output_type": "stream",
     "text": [
      "enter the first number33.33\n",
      "enter the second number66.66\n"
     ]
    }
   ],
   "source": [
    "x=float(input(\"enter the first number\"))\n",
    "y=float(input(\"enter the second number\"))"
   ]
  },
  {
   "cell_type": "code",
   "execution_count": 12,
   "id": "814e8ff1",
   "metadata": {},
   "outputs": [],
   "source": [
    "multiplication=x*y\n",
    "exponential=x**y"
   ]
  },
  {
   "cell_type": "code",
   "execution_count": 13,
   "id": "d2ef1031",
   "metadata": {},
   "outputs": [
    {
     "name": "stdout",
     "output_type": "stream",
     "text": [
      "2221.7778\n"
     ]
    }
   ],
   "source": [
    "print(multiplication)\n"
   ]
  },
  {
   "cell_type": "code",
   "execution_count": 14,
   "id": "74a6afd0",
   "metadata": {},
   "outputs": [
    {
     "name": "stdout",
     "output_type": "stream",
     "text": [
      "3.252385443192984e+101\n"
     ]
    }
   ],
   "source": [
    "print(exponential)"
   ]
  },
  {
   "cell_type": "code",
   "execution_count": 15,
   "id": "fcbe6236",
   "metadata": {},
   "outputs": [
    {
     "name": "stdout",
     "output_type": "stream",
     "text": [
      "enter the first number3.3\n",
      "enter the second number1.1\n"
     ]
    }
   ],
   "source": [
    "x=float(input(\"enter the first number\"))\n",
    "y=float(input(\"enter the second number\"))"
   ]
  },
  {
   "cell_type": "code",
   "execution_count": 16,
   "id": "2875320b",
   "metadata": {},
   "outputs": [],
   "source": [
    "division=x/y\n",
    "division2=x//y"
   ]
  },
  {
   "cell_type": "code",
   "execution_count": 17,
   "id": "7da7a690",
   "metadata": {},
   "outputs": [
    {
     "name": "stdout",
     "output_type": "stream",
     "text": [
      "2.9999999999999996\n"
     ]
    }
   ],
   "source": [
    "print(division)"
   ]
  },
  {
   "cell_type": "code",
   "execution_count": 19,
   "id": "85d0d5e9",
   "metadata": {},
   "outputs": [
    {
     "name": "stdout",
     "output_type": "stream",
     "text": [
      "2.0\n"
     ]
    }
   ],
   "source": [
    "print(division2)"
   ]
  },
  {
   "cell_type": "markdown",
   "id": "f6d189ba",
   "metadata": {},
   "source": [
    "# Assignment operators"
   ]
  },
  {
   "cell_type": "code",
   "execution_count": 22,
   "id": "0f37797c",
   "metadata": {},
   "outputs": [
    {
     "name": "stdout",
     "output_type": "stream",
     "text": [
      " the value of x is 6\n"
     ]
    }
   ],
   "source": [
    "x=int(input(\" the value of x is \"))"
   ]
  },
  {
   "cell_type": "code",
   "execution_count": 23,
   "id": "ac47dd81",
   "metadata": {},
   "outputs": [],
   "source": [
    "x+=4"
   ]
  },
  {
   "cell_type": "code",
   "execution_count": 24,
   "id": "a682ff37",
   "metadata": {},
   "outputs": [
    {
     "name": "stdout",
     "output_type": "stream",
     "text": [
      "10\n"
     ]
    }
   ],
   "source": [
    "print(x)"
   ]
  },
  {
   "cell_type": "code",
   "execution_count": 25,
   "id": "ae9b8b0b",
   "metadata": {},
   "outputs": [
    {
     "name": "stdout",
     "output_type": "stream",
     "text": [
      " the value of x is 6\n"
     ]
    }
   ],
   "source": [
    "x=int(input(\" the value of x is \"))"
   ]
  },
  {
   "cell_type": "code",
   "execution_count": 26,
   "id": "e84cffab",
   "metadata": {},
   "outputs": [],
   "source": [
    "x-=5"
   ]
  },
  {
   "cell_type": "code",
   "execution_count": 27,
   "id": "374846a8",
   "metadata": {},
   "outputs": [
    {
     "name": "stdout",
     "output_type": "stream",
     "text": [
      "1\n"
     ]
    }
   ],
   "source": [
    "print(x)"
   ]
  },
  {
   "cell_type": "code",
   "execution_count": 28,
   "id": "b6c9fcfa",
   "metadata": {},
   "outputs": [],
   "source": [
    "x*=4"
   ]
  },
  {
   "cell_type": "code",
   "execution_count": 29,
   "id": "ec4ca14a",
   "metadata": {},
   "outputs": [
    {
     "name": "stdout",
     "output_type": "stream",
     "text": [
      "4\n"
     ]
    }
   ],
   "source": [
    "print(x)"
   ]
  },
  {
   "cell_type": "code",
   "execution_count": 30,
   "id": "ed2f0b39",
   "metadata": {},
   "outputs": [],
   "source": [
    "x/=5   "
   ]
  },
  {
   "cell_type": "code",
   "execution_count": 31,
   "id": "0f53b80e",
   "metadata": {},
   "outputs": [
    {
     "name": "stdout",
     "output_type": "stream",
     "text": [
      "0.8\n"
     ]
    }
   ],
   "source": [
    "print(x)"
   ]
  },
  {
   "cell_type": "code",
   "execution_count": 32,
   "id": "9b0cb19b",
   "metadata": {},
   "outputs": [],
   "source": [
    "x%=4      #remainder"
   ]
  },
  {
   "cell_type": "code",
   "execution_count": 33,
   "id": "dc4c1c7c",
   "metadata": {},
   "outputs": [
    {
     "name": "stdout",
     "output_type": "stream",
     "text": [
      "0.8\n"
     ]
    }
   ],
   "source": [
    "print(x)"
   ]
  },
  {
   "cell_type": "code",
   "execution_count": 34,
   "id": "b01b51f2",
   "metadata": {},
   "outputs": [],
   "source": [
    "x**=5      #exponential or power"
   ]
  },
  {
   "cell_type": "code",
   "execution_count": 35,
   "id": "5d822f71",
   "metadata": {},
   "outputs": [
    {
     "name": "stdout",
     "output_type": "stream",
     "text": [
      "0.3276800000000001\n"
     ]
    }
   ],
   "source": [
    "print(x)"
   ]
  },
  {
   "cell_type": "markdown",
   "id": "977259a8",
   "metadata": {},
   "source": [
    "# comparision operators"
   ]
  },
  {
   "cell_type": "code",
   "execution_count": 36,
   "id": "5ed27bcc",
   "metadata": {},
   "outputs": [
    {
     "name": "stdout",
     "output_type": "stream",
     "text": [
      "enter the first number40\n",
      "enter the second number50\n"
     ]
    }
   ],
   "source": [
    "a=float(input(\"enter the first number\"))\n",
    "b=float(input(\"enter the second number\"))"
   ]
  },
  {
   "cell_type": "code",
   "execution_count": 37,
   "id": "2182edcb",
   "metadata": {},
   "outputs": [
    {
     "data": {
      "text/plain": [
       "False"
      ]
     },
     "execution_count": 37,
     "metadata": {},
     "output_type": "execute_result"
    }
   ],
   "source": [
    "a==b     #equals to"
   ]
  },
  {
   "cell_type": "code",
   "execution_count": 38,
   "id": "1e7ced13",
   "metadata": {},
   "outputs": [
    {
     "data": {
      "text/plain": [
       "False"
      ]
     },
     "execution_count": 38,
     "metadata": {},
     "output_type": "execute_result"
    }
   ],
   "source": [
    "a>b    #greater than"
   ]
  },
  {
   "cell_type": "code",
   "execution_count": 39,
   "id": "cd9ba5db",
   "metadata": {},
   "outputs": [
    {
     "data": {
      "text/plain": [
       "True"
      ]
     },
     "execution_count": 39,
     "metadata": {},
     "output_type": "execute_result"
    }
   ],
   "source": [
    "a<b   #less than"
   ]
  },
  {
   "cell_type": "code",
   "execution_count": 40,
   "id": "df80abf0",
   "metadata": {},
   "outputs": [
    {
     "data": {
      "text/plain": [
       "True"
      ]
     },
     "execution_count": 40,
     "metadata": {},
     "output_type": "execute_result"
    }
   ],
   "source": [
    "a<=b    #less equals to"
   ]
  },
  {
   "cell_type": "code",
   "execution_count": 41,
   "id": "24e2ee41",
   "metadata": {},
   "outputs": [
    {
     "data": {
      "text/plain": [
       "False"
      ]
     },
     "execution_count": 41,
     "metadata": {},
     "output_type": "execute_result"
    }
   ],
   "source": [
    "a>=b     #greater equals to"
   ]
  },
  {
   "cell_type": "code",
   "execution_count": 43,
   "id": "e9253b67",
   "metadata": {},
   "outputs": [
    {
     "data": {
      "text/plain": [
       "True"
      ]
     },
     "execution_count": 43,
     "metadata": {},
     "output_type": "execute_result"
    }
   ],
   "source": [
    "a!=b      #not equals to "
   ]
  },
  {
   "cell_type": "markdown",
   "id": "be150676",
   "metadata": {},
   "source": [
    "# LOGICAL OPERATORS"
   ]
  },
  {
   "cell_type": "code",
   "execution_count": 44,
   "id": "9bf0a4ec",
   "metadata": {},
   "outputs": [
    {
     "data": {
      "text/plain": [
       "False"
      ]
     },
     "execution_count": 44,
     "metadata": {},
     "output_type": "execute_result"
    }
   ],
   "source": [
    "2>4 and 3>5   #and operators"
   ]
  },
  {
   "cell_type": "code",
   "execution_count": 45,
   "id": "8e400308",
   "metadata": {},
   "outputs": [
    {
     "data": {
      "text/plain": [
       "True"
      ]
     },
     "execution_count": 45,
     "metadata": {},
     "output_type": "execute_result"
    }
   ],
   "source": [
    "40>30 or 40<50  #or operators"
   ]
  },
  {
   "cell_type": "code",
   "execution_count": 46,
   "id": "b9816c12",
   "metadata": {},
   "outputs": [
    {
     "data": {
      "text/plain": [
       "False"
      ]
     },
     "execution_count": 46,
     "metadata": {},
     "output_type": "execute_result"
    }
   ],
   "source": [
    "a<10 or b>50   #a and b's value assigned above"
   ]
  },
  {
   "cell_type": "code",
   "execution_count": 47,
   "id": "7995d987",
   "metadata": {},
   "outputs": [
    {
     "data": {
      "text/plain": [
       "True"
      ]
     },
     "execution_count": 47,
     "metadata": {},
     "output_type": "execute_result"
    }
   ],
   "source": [
    "not (2>4 and 3>5 )   #not operator"
   ]
  },
  {
   "cell_type": "markdown",
   "id": "fd5b5c56",
   "metadata": {},
   "source": [
    "# DATA TYPES"
   ]
  },
  {
   "cell_type": "markdown",
   "id": "43eb7be5",
   "metadata": {},
   "source": [
    "STRING"
   ]
  },
  {
   "cell_type": "code",
   "execution_count": 49,
   "id": "6dcb2b8b",
   "metadata": {},
   "outputs": [],
   "source": [
    "x = \"i am a student\""
   ]
  },
  {
   "cell_type": "code",
   "execution_count": 50,
   "id": "4d11d76a",
   "metadata": {},
   "outputs": [
    {
     "data": {
      "text/plain": [
       "14"
      ]
     },
     "execution_count": 50,
     "metadata": {},
     "output_type": "execute_result"
    }
   ],
   "source": [
    "len(x)     #counting starts from 0 including white spaces"
   ]
  },
  {
   "cell_type": "code",
   "execution_count": 52,
   "id": "5bc63572",
   "metadata": {},
   "outputs": [
    {
     "data": {
      "text/plain": [
       "'s'"
      ]
     },
     "execution_count": 52,
     "metadata": {},
     "output_type": "execute_result"
    }
   ],
   "source": [
    "x[7]      #7th character of string"
   ]
  },
  {
   "cell_type": "code",
   "execution_count": 53,
   "id": "ec8df878",
   "metadata": {},
   "outputs": [
    {
     "data": {
      "text/plain": [
       "'student'"
      ]
     },
     "execution_count": 53,
     "metadata": {},
     "output_type": "execute_result"
    }
   ],
   "source": [
    "x[7:14]       #charcters from 7 to 14"
   ]
  },
  {
   "cell_type": "code",
   "execution_count": 57,
   "id": "866d7706",
   "metadata": {},
   "outputs": [
    {
     "data": {
      "text/plain": [
       "'a student'"
      ]
     },
     "execution_count": 57,
     "metadata": {},
     "output_type": "execute_result"
    }
   ],
   "source": [
    "x[5::]     "
   ]
  },
  {
   "cell_type": "code",
   "execution_count": 58,
   "id": "242947b4",
   "metadata": {},
   "outputs": [
    {
     "data": {
      "text/plain": [
       "'t'"
      ]
     },
     "execution_count": 58,
     "metadata": {},
     "output_type": "execute_result"
    }
   ],
   "source": [
    "x[-1]    # counting starts from end "
   ]
  },
  {
   "cell_type": "code",
   "execution_count": 64,
   "id": "7894d6f3",
   "metadata": {},
   "outputs": [
    {
     "data": {
      "text/plain": [
       "'uden'"
      ]
     },
     "execution_count": 64,
     "metadata": {},
     "output_type": "execute_result"
    }
   ],
   "source": [
    "x[-5:-1] "
   ]
  },
  {
   "cell_type": "code",
   "execution_count": 65,
   "id": "6746a4e6",
   "metadata": {},
   "outputs": [
    {
     "data": {
      "text/plain": [
       "'tneduts a ma i'"
      ]
     },
     "execution_count": 65,
     "metadata": {},
     "output_type": "execute_result"
    }
   ],
   "source": [
    "x[::-1]      #reverse print of string"
   ]
  },
  {
   "cell_type": "code",
   "execution_count": 69,
   "id": "af10b8e8",
   "metadata": {},
   "outputs": [
    {
     "name": "stdout",
     "output_type": "stream",
     "text": [
      "ENTER THE STRING: Anu Gartoula \n"
     ]
    }
   ],
   "source": [
    "x=input(\"ENTER THE STRING: \")\n"
   ]
  },
  {
   "cell_type": "code",
   "execution_count": 71,
   "id": "a8840841",
   "metadata": {},
   "outputs": [
    {
     "data": {
      "text/plain": [
       "' aluotraG unA'"
      ]
     },
     "execution_count": 71,
     "metadata": {},
     "output_type": "execute_result"
    }
   ],
   "source": [
    "x[::-1]"
   ]
  },
  {
   "cell_type": "code",
   "execution_count": 74,
   "id": "06e399e0",
   "metadata": {},
   "outputs": [],
   "source": [
    "y=x.split()      #splitting the words"
   ]
  },
  {
   "cell_type": "code",
   "execution_count": 75,
   "id": "5a49e6c0",
   "metadata": {},
   "outputs": [
    {
     "data": {
      "text/plain": [
       "['Anu', 'Gartoula']"
      ]
     },
     "execution_count": 75,
     "metadata": {},
     "output_type": "execute_result"
    }
   ],
   "source": [
    "y"
   ]
  },
  {
   "cell_type": "code",
   "execution_count": 78,
   "id": "d7fbd2f4",
   "metadata": {},
   "outputs": [],
   "source": [
    "b= \"I/am/a/python/developer\"        "
   ]
  },
  {
   "cell_type": "code",
   "execution_count": 81,
   "id": "fd7d1898",
   "metadata": {},
   "outputs": [],
   "source": [
    "a=b.split('/')"
   ]
  },
  {
   "cell_type": "code",
   "execution_count": 82,
   "id": "e7020ea7",
   "metadata": {},
   "outputs": [
    {
     "data": {
      "text/plain": [
       "['I', 'am', 'a', 'python', 'developer']"
      ]
     },
     "execution_count": 82,
     "metadata": {},
     "output_type": "execute_result"
    }
   ],
   "source": [
    "a"
   ]
  },
  {
   "cell_type": "markdown",
   "id": "2b36bd6d",
   "metadata": {},
   "source": [
    "list"
   ]
  },
  {
   "cell_type": "code",
   "execution_count": 83,
   "id": "5d9c8280",
   "metadata": {},
   "outputs": [],
   "source": [
    " strl ='i am a human'"
   ]
  },
  {
   "cell_type": "code",
   "execution_count": 84,
   "id": "c66ae162",
   "metadata": {},
   "outputs": [
    {
     "data": {
      "text/plain": [
       "'I am a human'"
      ]
     },
     "execution_count": 84,
     "metadata": {},
     "output_type": "execute_result"
    }
   ],
   "source": [
    "strl.capitalize()"
   ]
  },
  {
   "cell_type": "code",
   "execution_count": 85,
   "id": "3d98967e",
   "metadata": {},
   "outputs": [
    {
     "data": {
      "text/plain": [
       "'i am a human'"
      ]
     },
     "execution_count": 85,
     "metadata": {},
     "output_type": "execute_result"
    }
   ],
   "source": [
    "strl.casefold() #casefold lowercases the string   "
   ]
  },
  {
   "cell_type": "code",
   "execution_count": 87,
   "id": "328edd5d",
   "metadata": {},
   "outputs": [
    {
     "data": {
      "text/plain": [
       "3"
      ]
     },
     "execution_count": 87,
     "metadata": {},
     "output_type": "execute_result"
    }
   ],
   "source": [
    "strl.count('a')    #counts the number of 'a' in strl string"
   ]
  },
  {
   "cell_type": "code",
   "execution_count": 89,
   "id": "af66b945",
   "metadata": {},
   "outputs": [
    {
     "data": {
      "text/plain": [
       "b'i am a human'"
      ]
     },
     "execution_count": 89,
     "metadata": {},
     "output_type": "execute_result"
    }
   ],
   "source": [
    "strl.encode()    #transfers in bytes"
   ]
  },
  {
   "cell_type": "code",
   "execution_count": 91,
   "id": "cecd1714",
   "metadata": {},
   "outputs": [
    {
     "data": {
      "text/plain": [
       "'    i am a human    '"
      ]
     },
     "execution_count": 91,
     "metadata": {},
     "output_type": "execute_result"
    }
   ],
   "source": [
    "strl.center(20)       #increases space"
   ]
  },
  {
   "cell_type": "code",
   "execution_count": 92,
   "id": "878dc1dc",
   "metadata": {},
   "outputs": [
    {
     "data": {
      "text/plain": [
       "False"
      ]
     },
     "execution_count": 92,
     "metadata": {},
     "output_type": "execute_result"
    }
   ],
   "source": [
    "x.isalnum()"
   ]
  },
  {
   "cell_type": "code",
   "execution_count": 93,
   "id": "2efb61a3",
   "metadata": {},
   "outputs": [
    {
     "data": {
      "text/plain": [
       "False"
      ]
     },
     "execution_count": 93,
     "metadata": {},
     "output_type": "execute_result"
    }
   ],
   "source": [
    "x.isalpha()    #is and tab"
   ]
  },
  {
   "cell_type": "code",
   "execution_count": null,
   "id": "3b3959b1",
   "metadata": {},
   "outputs": [],
   "source": []
  }
 ],
 "metadata": {
  "kernelspec": {
   "display_name": "Python 3 (ipykernel)",
   "language": "python",
   "name": "python3"
  },
  "language_info": {
   "codemirror_mode": {
    "name": "ipython",
    "version": 3
   },
   "file_extension": ".py",
   "mimetype": "text/x-python",
   "name": "python",
   "nbconvert_exporter": "python",
   "pygments_lexer": "ipython3",
   "version": "3.11.1"
  }
 },
 "nbformat": 4,
 "nbformat_minor": 5
}
