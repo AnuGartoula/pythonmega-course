{
 "cells": [
  {
   "cell_type": "markdown",
   "id": "d9780480",
   "metadata": {},
   "source": [
    "# Tuples cont'd"
   ]
  },
  {
   "cell_type": "code",
   "execution_count": 1,
   "id": "8ed805ec",
   "metadata": {},
   "outputs": [],
   "source": [
    "x=(\"apple\",\"banana\",\"grapes\",\"apple\",\"apple\")"
   ]
  },
  {
   "cell_type": "code",
   "execution_count": 2,
   "id": "71aa58a1",
   "metadata": {},
   "outputs": [
    {
     "data": {
      "text/plain": [
       "('apple', 'banana', 'grapes', 'apple', 'apple')"
      ]
     },
     "execution_count": 2,
     "metadata": {},
     "output_type": "execute_result"
    }
   ],
   "source": [
    "x"
   ]
  },
  {
   "cell_type": "code",
   "execution_count": 3,
   "id": "18c33462",
   "metadata": {},
   "outputs": [
    {
     "data": {
      "text/plain": [
       "5"
      ]
     },
     "execution_count": 3,
     "metadata": {},
     "output_type": "execute_result"
    }
   ],
   "source": [
    "len(x)"
   ]
  },
  {
   "cell_type": "code",
   "execution_count": 4,
   "id": "9d95f5a6",
   "metadata": {},
   "outputs": [
    {
     "data": {
      "text/plain": [
       "'grapes'"
      ]
     },
     "execution_count": 4,
     "metadata": {},
     "output_type": "execute_result"
    }
   ],
   "source": [
    "x[2]"
   ]
  },
  {
   "cell_type": "code",
   "execution_count": 5,
   "id": "c3bd0a26",
   "metadata": {},
   "outputs": [
    {
     "data": {
      "text/plain": [
       "('grapes', 'apple', 'apple')"
      ]
     },
     "execution_count": 5,
     "metadata": {},
     "output_type": "execute_result"
    }
   ],
   "source": [
    "x[2:5]"
   ]
  },
  {
   "cell_type": "code",
   "execution_count": 6,
   "id": "88cb7757",
   "metadata": {},
   "outputs": [],
   "source": [
    "y=list(x)        #changes tuples into list ; y is name of new list ; x is tuples\n"
   ]
  },
  {
   "cell_type": "code",
   "execution_count": 7,
   "id": "f21b654b",
   "metadata": {},
   "outputs": [
    {
     "data": {
      "text/plain": [
       "['apple', 'banana', 'grapes', 'apple', 'apple']"
      ]
     },
     "execution_count": 7,
     "metadata": {},
     "output_type": "execute_result"
    }
   ],
   "source": [
    "y"
   ]
  },
  {
   "cell_type": "code",
   "execution_count": 8,
   "id": "b35f28a3",
   "metadata": {},
   "outputs": [],
   "source": [
    "y[2]=\"pineapple\"    #changing grapes "
   ]
  },
  {
   "cell_type": "code",
   "execution_count": 9,
   "id": "a3553920",
   "metadata": {},
   "outputs": [
    {
     "data": {
      "text/plain": [
       "['apple', 'banana', 'pineapple', 'apple', 'apple']"
      ]
     },
     "execution_count": 9,
     "metadata": {},
     "output_type": "execute_result"
    }
   ],
   "source": [
    "y"
   ]
  },
  {
   "cell_type": "code",
   "execution_count": 11,
   "id": "f4189d7a",
   "metadata": {},
   "outputs": [],
   "source": [
    "y.remove('apple')"
   ]
  },
  {
   "cell_type": "code",
   "execution_count": 12,
   "id": "1d7a4ba9",
   "metadata": {},
   "outputs": [
    {
     "data": {
      "text/plain": [
       "['banana', 'pineapple', 'apple', 'apple']"
      ]
     },
     "execution_count": 12,
     "metadata": {},
     "output_type": "execute_result"
    }
   ],
   "source": [
    "y\n"
   ]
  },
  {
   "cell_type": "code",
   "execution_count": 13,
   "id": "ae023062",
   "metadata": {},
   "outputs": [],
   "source": [
    "x=tuple(y)    #changes the list into tuple"
   ]
  },
  {
   "cell_type": "code",
   "execution_count": 14,
   "id": "7ac1bc51",
   "metadata": {},
   "outputs": [
    {
     "data": {
      "text/plain": [
       "('banana', 'pineapple', 'apple', 'apple')"
      ]
     },
     "execution_count": 14,
     "metadata": {},
     "output_type": "execute_result"
    }
   ],
   "source": [
    "x"
   ]
  },
  {
   "cell_type": "code",
   "execution_count": 15,
   "id": "84ce41da",
   "metadata": {},
   "outputs": [
    {
     "data": {
      "text/plain": [
       "tuple"
      ]
     },
     "execution_count": 15,
     "metadata": {},
     "output_type": "execute_result"
    }
   ],
   "source": [
    "type(x)"
   ]
  },
  {
   "cell_type": "code",
   "execution_count": 16,
   "id": "9ddfacca",
   "metadata": {},
   "outputs": [],
   "source": [
    "z=('hexcode',)         #comma to create single element tuple"
   ]
  },
  {
   "cell_type": "code",
   "execution_count": 17,
   "id": "d0399b7b",
   "metadata": {},
   "outputs": [
    {
     "data": {
      "text/plain": [
       "tuple"
      ]
     },
     "execution_count": 17,
     "metadata": {},
     "output_type": "execute_result"
    }
   ],
   "source": [
    "type(z)"
   ]
  },
  {
   "cell_type": "markdown",
   "id": "0a06e820",
   "metadata": {},
   "source": [
    "# Set"
   ]
  },
  {
   "cell_type": "code",
   "execution_count": 18,
   "id": "4b18ae9a",
   "metadata": {},
   "outputs": [],
   "source": [
    "s1={1,2,3,4,5,6}"
   ]
  },
  {
   "cell_type": "code",
   "execution_count": 19,
   "id": "c3594185",
   "metadata": {},
   "outputs": [
    {
     "data": {
      "text/plain": [
       "set"
      ]
     },
     "execution_count": 19,
     "metadata": {},
     "output_type": "execute_result"
    }
   ],
   "source": [
    "type(s1)"
   ]
  },
  {
   "cell_type": "code",
   "execution_count": 20,
   "id": "f3cb250c",
   "metadata": {},
   "outputs": [],
   "source": [
    "s2={1,1,1,2,3,4,5,6,6,6,7,7}"
   ]
  },
  {
   "cell_type": "code",
   "execution_count": 21,
   "id": "acd0e20f",
   "metadata": {},
   "outputs": [
    {
     "data": {
      "text/plain": [
       "{1, 2, 3, 4, 5, 6, 7}"
      ]
     },
     "execution_count": 21,
     "metadata": {},
     "output_type": "execute_result"
    }
   ],
   "source": [
    "s2      #set doesnt allow dublications\n"
   ]
  },
  {
   "cell_type": "code",
   "execution_count": 22,
   "id": "e381f548",
   "metadata": {},
   "outputs": [
    {
     "data": {
      "text/plain": [
       "6"
      ]
     },
     "execution_count": 22,
     "metadata": {},
     "output_type": "execute_result"
    }
   ],
   "source": [
    "len(s1)"
   ]
  },
  {
   "cell_type": "code",
   "execution_count": 23,
   "id": "dc698b01",
   "metadata": {},
   "outputs": [],
   "source": [
    "s2.add('hi')"
   ]
  },
  {
   "cell_type": "code",
   "execution_count": 24,
   "id": "41d3e6dc",
   "metadata": {},
   "outputs": [
    {
     "data": {
      "text/plain": [
       "{1, 2, 3, 4, 5, 6, 7, 'hi'}"
      ]
     },
     "execution_count": 24,
     "metadata": {},
     "output_type": "execute_result"
    }
   ],
   "source": [
    "s2"
   ]
  },
  {
   "cell_type": "code",
   "execution_count": 25,
   "id": "9c85cab5",
   "metadata": {},
   "outputs": [],
   "source": [
    "s2.remove(6)"
   ]
  },
  {
   "cell_type": "code",
   "execution_count": 26,
   "id": "75ceddc5",
   "metadata": {},
   "outputs": [
    {
     "data": {
      "text/plain": [
       "{1, 2, 3, 4, 5, 7, 'hi'}"
      ]
     },
     "execution_count": 26,
     "metadata": {},
     "output_type": "execute_result"
    }
   ],
   "source": [
    "s2"
   ]
  },
  {
   "cell_type": "code",
   "execution_count": 31,
   "id": "bef3ff72",
   "metadata": {},
   "outputs": [
    {
     "name": "stdout",
     "output_type": "stream",
     "text": [
      "1\n",
      "2\n",
      "3\n",
      "4\n",
      "5\n",
      "7\n",
      "hi\n"
     ]
    }
   ],
   "source": [
    "for i in s2:\n",
    "    print(i)"
   ]
  },
  {
   "cell_type": "code",
   "execution_count": 38,
   "id": "956e4a59",
   "metadata": {},
   "outputs": [],
   "source": [
    "a=list(s2)              #a is name of new set "
   ]
  },
  {
   "cell_type": "code",
   "execution_count": 39,
   "id": "1d3ebbd9",
   "metadata": {},
   "outputs": [
    {
     "data": {
      "text/plain": [
       "[1, 2, 3, 4, 5, 7, 'hi']"
      ]
     },
     "execution_count": 39,
     "metadata": {},
     "output_type": "execute_result"
    }
   ],
   "source": [
    "a"
   ]
  },
  {
   "cell_type": "code",
   "execution_count": 42,
   "id": "ed00b21a",
   "metadata": {},
   "outputs": [],
   "source": [
    "a[-1]='hello world'"
   ]
  },
  {
   "cell_type": "code",
   "execution_count": 41,
   "id": "e95d3f1f",
   "metadata": {},
   "outputs": [
    {
     "data": {
      "text/plain": [
       "[1, 2, 3, 4, 5, 7, 'hello world']"
      ]
     },
     "execution_count": 41,
     "metadata": {},
     "output_type": "execute_result"
    }
   ],
   "source": [
    "a\n"
   ]
  },
  {
   "cell_type": "markdown",
   "id": "b2d16da4",
   "metadata": {},
   "source": [
    "# If Else Statement"
   ]
  },
  {
   "cell_type": "code",
   "execution_count": 1,
   "id": "33131b5e",
   "metadata": {},
   "outputs": [
    {
     "name": "stdout",
     "output_type": "stream",
     "text": [
      "enter any number: 67\n"
     ]
    }
   ],
   "source": [
    "x=int(input('enter any number: '))"
   ]
  },
  {
   "cell_type": "code",
   "execution_count": 7,
   "id": "c018378c",
   "metadata": {},
   "outputs": [
    {
     "name": "stdout",
     "output_type": "stream",
     "text": [
      "number is odd\n"
     ]
    }
   ],
   "source": [
    " if x%2==0:\n",
    "        print('number is even')\n",
    "else:\n",
    "        print('number is odd')\n"
   ]
  },
  {
   "cell_type": "code",
   "execution_count": 9,
   "id": "d5d4cc66",
   "metadata": {},
   "outputs": [
    {
     "name": "stdout",
     "output_type": "stream",
     "text": [
      "enter any number: 60.99\n"
     ]
    }
   ],
   "source": [
    "x=float(input('enter any number: '))"
   ]
  },
  {
   "cell_type": "code",
   "execution_count": 10,
   "id": "671952fd",
   "metadata": {},
   "outputs": [
    {
     "name": "stdout",
     "output_type": "stream",
     "text": [
      "enter integer\n"
     ]
    }
   ],
   "source": [
    " if x%2==0:\n",
    "        print('number is even')\n",
    "elif x%2==1:\n",
    "    print('number is odd')\n",
    "    \n",
    "else:\n",
    "     print('enter integer')"
   ]
  },
  {
   "cell_type": "markdown",
   "id": "8d32563c",
   "metadata": {},
   "source": [
    "exercise:\n",
    "    1) take input from user \n",
    "    2) clssify the division using following reference \n",
    "        i) if marks is greater than equal to 80- distinction \n",
    "        ii) greater equal to 60 and less than 80- first division \n",
    "        iii)greater equal to  40 and less than 60-  dsecond division\n",
    "        iv) less than 40 - fail\n",
    "        v) else invalid"
   ]
  },
  {
   "cell_type": "code",
   "execution_count": 13,
   "id": "5668a3bb",
   "metadata": {},
   "outputs": [
    {
     "name": "stdout",
     "output_type": "stream",
     "text": [
      "enter the marks of student: 44.44\n"
     ]
    }
   ],
   "source": [
    " x=float(input('enter the marks of student: '))"
   ]
  },
  {
   "cell_type": "code",
   "execution_count": 16,
   "id": "afaf131a",
   "metadata": {},
   "outputs": [
    {
     "name": "stdout",
     "output_type": "stream",
     "text": [
      "second division\n"
     ]
    }
   ],
   "source": [
    "if x>=80 and x<=100:\n",
    "    print(\"distinction\")\n",
    "elif x>=60 and x<=80:\n",
    "    print(\"first division\")\n",
    "elif x>=40  and x<=60:\n",
    "    print(\"second division\")\n",
    "elif x>40:\n",
    "    print(\"fail\")\n",
    "\n",
    "else: \n",
    "    print(\"invalid\")"
   ]
  },
  {
   "cell_type": "code",
   "execution_count": null,
   "id": "a1a9600a",
   "metadata": {},
   "outputs": [],
   "source": []
  }
 ],
 "metadata": {
  "kernelspec": {
   "display_name": "Python 3 (ipykernel)",
   "language": "python",
   "name": "python3"
  },
  "language_info": {
   "codemirror_mode": {
    "name": "ipython",
    "version": 3
   },
   "file_extension": ".py",
   "mimetype": "text/x-python",
   "name": "python",
   "nbconvert_exporter": "python",
   "pygments_lexer": "ipython3",
   "version": "3.11.1"
  }
 },
 "nbformat": 4,
 "nbformat_minor": 5
}
