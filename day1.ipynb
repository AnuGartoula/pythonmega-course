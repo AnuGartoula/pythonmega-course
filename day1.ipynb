{
 "cells": [
  {
   "cell_type": "code",
   "execution_count": null,
   "id": "27fdeadb",
   "metadata": {},
   "outputs": [],
   "source": [
    "print(\"Hello hex\")"
   ]
  },
  {
   "cell_type": "code",
   "execution_count": null,
   "id": "13ceccbd",
   "metadata": {},
   "outputs": [],
   "source": [
    "x=5"
   ]
  },
  {
   "cell_type": "code",
   "execution_count": null,
   "id": "48bd3a92",
   "metadata": {},
   "outputs": [],
   "source": [
    "print(x)"
   ]
  },
  {
   "cell_type": "code",
   "execution_count": null,
   "id": "c67f4a40",
   "metadata": {},
   "outputs": [],
   "source": [
    "type(x)"
   ]
  },
  {
   "cell_type": "code",
   "execution_count": null,
   "id": "d920d2dc",
   "metadata": {},
   "outputs": [],
   "source": [
    "y=\"i am a doctor\""
   ]
  },
  {
   "cell_type": "code",
   "execution_count": null,
   "id": "3452e52a",
   "metadata": {},
   "outputs": [],
   "source": [
    "type(y)"
   ]
  },
  {
   "cell_type": "code",
   "execution_count": 1,
   "id": "907fab6e",
   "metadata": {},
   "outputs": [
    {
     "name": "stdout",
     "output_type": "stream",
     "text": [
      "enter your nameanu gartoula\n"
     ]
    }
   ],
   "source": [
    "name=input('enter your name')"
   ]
  },
  {
   "cell_type": "code",
   "execution_count": null,
   "id": "33cc34d0",
   "metadata": {},
   "outputs": [],
   "source": []
  },
  {
   "cell_type": "code",
   "execution_count": null,
   "id": "84b2ff08",
   "metadata": {},
   "outputs": [],
   "source": []
  }
 ],
 "metadata": {
  "kernelspec": {
   "display_name": "Python 3 (ipykernel)",
   "language": "python",
   "name": "python3"
  },
  "language_info": {
   "codemirror_mode": {
    "name": "ipython",
    "version": 3
   },
   "file_extension": ".py",
   "mimetype": "text/x-python",
   "name": "python",
   "nbconvert_exporter": "python",
   "pygments_lexer": "ipython3",
   "version": "3.11.1"
  }
 },
 "nbformat": 4,
 "nbformat_minor": 5
}
